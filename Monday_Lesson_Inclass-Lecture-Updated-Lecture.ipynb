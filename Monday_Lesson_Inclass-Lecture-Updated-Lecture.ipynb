{
 "cells": [
  {
   "cell_type": "markdown",
   "metadata": {},
   "source": [
    "# Week 2 - Monday Lesson (variable assignment, loops, lists)"
   ]
  },
  {
   "cell_type": "markdown",
   "metadata": {},
   "source": [
    "## Tasks Today:\n",
    "\n",
    "1) Int & Float assignments <br>\n",
    " &nbsp;&nbsp;&nbsp;&nbsp; a) Assigning int <br>\n",
    " &nbsp;&nbsp;&nbsp;&nbsp; b) Assigning float <br>\n",
    " &nbsp;&nbsp;&nbsp;&nbsp; c) Performing Calculations on ints and floats <br>\n",
    " &nbsp;&nbsp;&nbsp;&nbsp;&nbsp;&nbsp;&nbsp;&nbsp; - Addition <br>\n",
    " &nbsp;&nbsp;&nbsp;&nbsp;&nbsp;&nbsp;&nbsp;&nbsp; - Subtraction <br>\n",
    " &nbsp;&nbsp;&nbsp;&nbsp;&nbsp;&nbsp;&nbsp;&nbsp; - Multiplication <br>\n",
    " &nbsp;&nbsp;&nbsp;&nbsp;&nbsp;&nbsp;&nbsp;&nbsp; - Division <br>\n",
    " &nbsp;&nbsp;&nbsp;&nbsp;&nbsp;&nbsp;&nbsp;&nbsp; - Floor Division <br>\n",
    " &nbsp;&nbsp;&nbsp;&nbsp;&nbsp;&nbsp;&nbsp;&nbsp; - Modulo <br>\n",
    " &nbsp;&nbsp;&nbsp;&nbsp;&nbsp;&nbsp;&nbsp;&nbsp; - Exponential <br>\n",
    "2) String Input-Output <br>\n",
    " &nbsp;&nbsp;&nbsp;&nbsp; a) String Assignment <br>\n",
    " &nbsp;&nbsp;&nbsp;&nbsp; b) print() <br>\n",
    " &nbsp;&nbsp;&nbsp;&nbsp; c) String Concatenation <br>\n",
    " &nbsp;&nbsp;&nbsp;&nbsp; d) Type Conversion <br>\n",
    " &nbsp;&nbsp;&nbsp;&nbsp; e) input() <br>\n",
    " &nbsp;&nbsp;&nbsp;&nbsp; f) format() <br>\n",
    " &nbsp;&nbsp;&nbsp;&nbsp; g) Old Way (python 2) <br>\n",
    "3) <b>In-Class Exercise #1</b> <br>\n",
    "4) If Statements <br>\n",
    " &nbsp;&nbsp;&nbsp;&nbsp; a) 'is' keyword <br>\n",
    " &nbsp;&nbsp;&nbsp;&nbsp; b) 'in' keyword <br>\n",
    " &nbsp;&nbsp;&nbsp;&nbsp; c) 'not in' keyword <br>\n",
    "5) <b>In-Class Exercise #2</b> <br>\n",
    "6) Elif Statements <br>\n",
    "7) Else Statements <br>\n",
    "8) <b>In-Class Exercise #3</b> <br>\n",
    "9) For Loops <br>\n",
    " &nbsp;&nbsp;&nbsp;&nbsp; a) Using 'in' keyword <br>\n",
    " &nbsp;&nbsp;&nbsp;&nbsp; b) Continue Statement <br>\n",
    " &nbsp;&nbsp;&nbsp;&nbsp; c) Break Statement <br>\n",
    " &nbsp;&nbsp;&nbsp;&nbsp; d) Pass Statement <br>\n",
    " &nbsp;&nbsp;&nbsp;&nbsp; e) Double For Loops <br>\n",
    "10) While Loops <br>\n",
    " &nbsp;&nbsp;&nbsp;&nbsp; a) Looping 'While True' <br>\n",
    " &nbsp;&nbsp;&nbsp;&nbsp; b) While and For Loops Used Together <br>\n",
    "11) Built-In Functions <br>\n",
    " &nbsp;&nbsp;&nbsp;&nbsp; a) range() <br>\n",
    " &nbsp;&nbsp;&nbsp;&nbsp; b) len() <br>\n",
    " &nbsp;&nbsp;&nbsp;&nbsp; c) help() <br>\n",
    " &nbsp;&nbsp;&nbsp;&nbsp; d) isinstance() <br>\n",
    " &nbsp;&nbsp;&nbsp;&nbsp; e) abs() <br>\n",
    "12) Try and Except <br>\n",
    "13) Lists <br>\n",
    " &nbsp;&nbsp;&nbsp;&nbsp; a) Declaring Lists <br>\n",
    " &nbsp;&nbsp;&nbsp;&nbsp; b) Indexing a List <br>\n",
    " &nbsp;&nbsp;&nbsp;&nbsp; c) .append() <br>\n",
    " &nbsp;&nbsp;&nbsp;&nbsp; d) .insert() <br>\n",
    " &nbsp;&nbsp;&nbsp;&nbsp; e) .pop() <br>\n",
    " &nbsp;&nbsp;&nbsp;&nbsp; f) .remove() <br>\n",
    " &nbsp;&nbsp;&nbsp;&nbsp; g) del() <br>\n",
    " &nbsp;&nbsp;&nbsp;&nbsp; h) Concatenating Two Lists <br>\n",
    " &nbsp;&nbsp;&nbsp;&nbsp; i) Lists Within Lists <br>\n",
    " &nbsp;&nbsp;&nbsp;&nbsp; j) Looping Through Lists <br>"
   ]
  },
  {
   "cell_type": "markdown",
   "metadata": {},
   "source": [
    "### Int & Float Assignments"
   ]
  },
  {
   "cell_type": "markdown",
   "metadata": {},
   "source": [
    "##### Assigning int"
   ]
  },
  {
   "cell_type": "code",
   "execution_count": 1,
   "metadata": {},
   "outputs": [],
   "source": [
    "favorite_number = 23"
   ]
  },
  {
   "cell_type": "markdown",
   "metadata": {},
   "source": [
    "##### Assinging float"
   ]
  },
  {
   "cell_type": "code",
   "execution_count": 2,
   "metadata": {},
   "outputs": [],
   "source": [
    "a_float = 1.5"
   ]
  },
  {
   "cell_type": "markdown",
   "metadata": {},
   "source": [
    "#### Performing Calculations on ints and floats"
   ]
  },
  {
   "cell_type": "markdown",
   "metadata": {},
   "source": [
    "##### Addition"
   ]
  },
  {
   "cell_type": "code",
   "execution_count": 5,
   "metadata": {},
   "outputs": [
    {
     "name": "stdout",
     "output_type": "stream",
     "text": [
      "10\n",
      "28\n",
      "23\n"
     ]
    }
   ],
   "source": [
    "print(5+5)\n",
    "print(favorite_number+5)\n",
    "print(favorite_number)"
   ]
  },
  {
   "cell_type": "markdown",
   "metadata": {},
   "source": [
    "##### Subtraction"
   ]
  },
  {
   "cell_type": "code",
   "execution_count": 15,
   "metadata": {},
   "outputs": [
    {
     "name": "stdout",
     "output_type": "stream",
     "text": [
      "5\n",
      "13\n",
      "13\n",
      "1.2\n"
     ]
    }
   ],
   "source": [
    "print (10 - 5)\n",
    "favorite_number = 23\n",
    "print(favorite_number - 10)\n",
    "\n",
    "# long hand version\n",
    "favorite_number = favorite_number - 10\n",
    "print(favorite_number)\n",
    "\n",
    "a_float = 1.5\n",
    "\n",
    "#short hand version\n",
    "a_float -= .3\n",
    "print(a_float)\n"
   ]
  },
  {
   "cell_type": "markdown",
   "metadata": {},
   "source": [
    "##### Multiplication"
   ]
  },
  {
   "cell_type": "code",
   "execution_count": 2,
   "metadata": {},
   "outputs": [
    {
     "name": "stdout",
     "output_type": "stream",
     "text": [
      "10\n",
      "39\n"
     ]
    }
   ],
   "source": [
    "print(5*2)\n",
    "\n",
    "\n",
    "favorite_number = 13\n",
    "favorite_number *= 3\n",
    "print(favorite_number)"
   ]
  },
  {
   "cell_type": "markdown",
   "metadata": {},
   "source": [
    "##### Division"
   ]
  },
  {
   "cell_type": "code",
   "execution_count": null,
   "metadata": {},
   "outputs": [],
   "source": [
    "# Same principles as above"
   ]
  },
  {
   "cell_type": "markdown",
   "metadata": {},
   "source": [
    "##### Floor Division"
   ]
  },
  {
   "cell_type": "code",
   "execution_count": 3,
   "metadata": {},
   "outputs": [
    {
     "name": "stdout",
     "output_type": "stream",
     "text": [
      "6.0\n"
     ]
    }
   ],
   "source": [
    "# Floor division is dividing a float by integer, and removing the remainder\n",
    "# aka dividing then rounding DOWN to the nearest whole integer.\n",
    "# Floor division sign is //\n",
    "\n",
    "favorite_number = 12.5\n",
    "favorite_number //= 2\n",
    "print(favorite_number)"
   ]
  },
  {
   "cell_type": "markdown",
   "metadata": {},
   "source": [
    "##### Modulo"
   ]
  },
  {
   "cell_type": "code",
   "execution_count": 6,
   "metadata": {},
   "outputs": [
    {
     "name": "stdout",
     "output_type": "stream",
     "text": [
      "1\n",
      "0\n"
     ]
    }
   ],
   "source": [
    "# Modulo is just taking the remainder or the decimal points of a float.\n",
    "# e.g. 5/2=2 1/2 (that is, 5 can be divided by 2 twice with 1 remainder), then the modulo is 1\n",
    "# 10/2 = 5 (with no remainder)\n",
    "# Modulo sign is %\n",
    "\n",
    "print(5%2)\n",
    "print(10%2)"
   ]
  },
  {
   "cell_type": "markdown",
   "metadata": {},
   "source": [
    "##### Exponential"
   ]
  },
  {
   "cell_type": "code",
   "execution_count": 12,
   "metadata": {},
   "outputs": [
    {
     "name": "stdout",
     "output_type": "stream",
     "text": [
      "9\n",
      "8\n"
     ]
    }
   ],
   "source": [
    "# Sign for exponents is ** rather than ^ (as it is in normal math)\n",
    "# normal math = (3^2 = 9), but python (3**2=9)\n",
    "\n",
    "print(3**2)\n",
    "print(2**3)"
   ]
  },
  {
   "cell_type": "markdown",
   "metadata": {},
   "source": [
    "### String Input-Output"
   ]
  },
  {
   "cell_type": "markdown",
   "metadata": {},
   "source": [
    "##### String Assignment"
   ]
  },
  {
   "cell_type": "code",
   "execution_count": null,
   "metadata": {},
   "outputs": [],
   "source": []
  },
  {
   "cell_type": "markdown",
   "metadata": {},
   "source": [
    "##### print() <br>\n",
    "<p>Don't forget about end=' '</p>"
   ]
  },
  {
   "cell_type": "code",
   "execution_count": null,
   "metadata": {},
   "outputs": [],
   "source": []
  },
  {
   "cell_type": "markdown",
   "metadata": {},
   "source": [
    "##### String Concatenation"
   ]
  },
  {
   "cell_type": "code",
   "execution_count": null,
   "metadata": {},
   "outputs": [],
   "source": []
  },
  {
   "cell_type": "markdown",
   "metadata": {},
   "source": [
    "##### Type Conversion"
   ]
  },
  {
   "cell_type": "code",
   "execution_count": null,
   "metadata": {},
   "outputs": [],
   "source": []
  },
  {
   "cell_type": "markdown",
   "metadata": {},
   "source": [
    "##### input()"
   ]
  },
  {
   "cell_type": "code",
   "execution_count": null,
   "metadata": {},
   "outputs": [],
   "source": []
  },
  {
   "cell_type": "markdown",
   "metadata": {},
   "source": [
    "##### format()"
   ]
  },
  {
   "cell_type": "code",
   "execution_count": null,
   "metadata": {},
   "outputs": [],
   "source": []
  },
  {
   "cell_type": "markdown",
   "metadata": {},
   "source": [
    "##### Old Way (python 2)"
   ]
  },
  {
   "cell_type": "code",
   "execution_count": null,
   "metadata": {},
   "outputs": [],
   "source": []
  },
  {
   "cell_type": "markdown",
   "metadata": {},
   "source": [
    "# In-Class Exercise 1 <br>\n",
    "<p>Create a format statement that asks for color, year, make, model and prints out the results</p>"
   ]
  },
  {
   "cell_type": "code",
   "execution_count": 13,
   "metadata": {},
   "outputs": [
    {
     "name": "stdout",
     "output_type": "stream",
     "text": [
      "condition true\n",
      "true\n"
     ]
    }
   ],
   "source": [
    "# if (boolean):\n",
    "#     run action must be indented\n",
    "\n",
    "if True:\n",
    "    print(\"condition true\")\n",
    "    \n",
    "if 1:\n",
    "    print('true')\n",
    "# 0 returns false\n",
    "if 0:\n",
    "    print('true')"
   ]
  },
  {
   "cell_type": "markdown",
   "metadata": {},
   "source": [
    "### If Statements"
   ]
  },
  {
   "cell_type": "code",
   "execution_count": 21,
   "metadata": {},
   "outputs": [
    {
     "name": "stdout",
     "output_type": "stream",
     "text": [
      "five > 4\n",
      "False\n",
      "5 == 5\n",
      "10 > 9\n",
      "10 >= 10\n",
      "10 != (not equal) 9\n"
     ]
    }
   ],
   "source": [
    "# Available operators: Greater(>), Less(<),Equal(==)\n",
    "# Greater or Equal(>=), Less or Equal (<=)\n",
    "\n",
    "# Make sure to INDENT! No indent = indentationError\n",
    "\n",
    "if 5 > 4:\n",
    "    print('five > 4')\n",
    "\n",
    "print(5<4)\n",
    "if 5 < 4:\n",
    "    print('five < 4')\n",
    "\n",
    "# Skip action if boolean/condition is false\n",
    "        \n",
    "if 5 == 5:\n",
    "    print('5 == 5')\n",
    "\n",
    "if 5 + 5 > 9:\n",
    "    print('10 > 9')\n",
    "    \n",
    "if 5 + 5 >= 10:\n",
    "    print('10 >= 10')\n",
    "\n",
    "if 10 != 9:\n",
    "    print('10 != (not equal) 9')"
   ]
  },
  {
   "cell_type": "code",
   "execution_count": 2,
   "metadata": {},
   "outputs": [
    {
     "name": "stdout",
     "output_type": "stream",
     "text": [
      "True or False\n",
      "10 == 10 < 11\n",
      "second action\n",
      "what is your age20\n",
      "not breaking at first condition\n",
      "at least one is true\n"
     ]
    }
   ],
   "source": [
    "# Truth Tree:\n",
    "# T and F = F\n",
    "# T and T = T\n",
    "# F and F = F\n",
    "# T or F = T\n",
    "# F or T = T\n",
    "# F or F = F\n",
    "\n",
    "if True and False:\n",
    "    print('True and False')\n",
    "\n",
    "if True or False:\n",
    "    print('True or False')\n",
    "\n",
    "# can have multiple actions until next line is on same indentation level\n",
    "if 5+5==10 and 11>10:\n",
    "    print('10 == 10 < 11')\n",
    "    print('second action')\n",
    "    \n",
    "# T and F\n",
    "if 5+5>10 and 11>10:\n",
    "    print('10 == 10 < 11')\n",
    "    print('second action 2')\n",
    "\n",
    "# first condition returns F, then doesn't check 2nd condition\n",
    "if 10 == 11 and int(input('what is your age')) > 18:\n",
    "    print('breaking at first condition')\n",
    "    \n",
    "if 10 == 11 or int(input('what is your age')) > 18:\n",
    "    print('not breaking at first condition')\n",
    "\n",
    "# T or T\n",
    "if 1 > 0 or 10 == 10:\n",
    "    print('at least one is true')\n",
    "    \n",
    "# F or F\n",
    "if 1 > 2 or 2 > 3:\n",
    "    print('both true using or')\n"
   ]
  },
  {
   "cell_type": "markdown",
   "metadata": {},
   "source": [
    "##### 'is' keyword"
   ]
  },
  {
   "cell_type": "code",
   "execution_count": 4,
   "metadata": {},
   "outputs": [
    {
     "name": "stdout",
     "output_type": "stream",
     "text": [
      "[1, 2, 3, 4]\n",
      "True\n",
      "[1, 2, 3, 4, 5]\n",
      "[1, 2, 3, 4]\n"
     ]
    }
   ],
   "source": [
    "simple_list = [1,2,3,4]\n",
    "basic_list = [1,2,3,4]\n",
    "# True\n",
    "simple_list == basic_list\n",
    "# False\n",
    "simple_list is basic_list\n",
    "\n",
    "simple_list_copy = simple_list\n",
    "print(simple_list_copy)\n",
    "\n",
    "print(simple_list_copy is simple_list)\n",
    "# adding to same list of simple and simple copy\n",
    "simple_list.append(5)\n",
    "\n",
    "print(simple_list_copy)\n",
    "# uneffected\n",
    "print(basic_list)"
   ]
  },
  {
   "cell_type": "markdown",
   "metadata": {},
   "source": [
    "##### 'in' keyword"
   ]
  },
  {
   "cell_type": "code",
   "execution_count": 14,
   "metadata": {},
   "outputs": [
    {
     "name": "stdout",
     "output_type": "stream",
     "text": [
      "True\n",
      "False\n",
      "True\n",
      "True\n",
      "True\n",
      "False\n"
     ]
    }
   ],
   "source": [
    "# membership check (return T or F)\n",
    "\n",
    "character = 'Neo'\n",
    "print('N' in character)\n",
    "# case sensitive\n",
    "print('n' in character)\n",
    "\n",
    "# but if you use Title case or Upper case method, then it returns true, because n becomes N\n",
    "print('n'.title() in character)\n",
    "print('n'.upper() in character)\n",
    "\n",
    "# out of order will return false, unless using 'loop'\n",
    "print ('neo' in 'neo'whatprint ('one' in 'neo')"
   ]
  },
  {
   "cell_type": "code",
   "execution_count": 15,
   "metadata": {},
   "outputs": [
    {
     "name": "stdout",
     "output_type": "stream",
     "text": [
      "o true\n",
      "n true\n",
      "e true\n",
      "o true\n"
     ]
    }
   ],
   "source": [
    "for character in ['o','n','e','a','b','o']:\n",
    "    if character in 'neo':\n",
    "        print(f'{character} true')"
   ]
  },
  {
   "cell_type": "markdown",
   "metadata": {},
   "source": [
    "##### 'not in' keyword"
   ]
  },
  {
   "cell_type": "code",
   "execution_count": 16,
   "metadata": {},
   "outputs": [
    {
     "name": "stdout",
     "output_type": "stream",
     "text": [
      "no z in Neo\n"
     ]
    }
   ],
   "source": [
    "if 'z' not in character:\n",
    "    print('no z in Neo')\n",
    "    \n",
    "if 'n' not in 'neo':\n",
    "    print('no n in neo')"
   ]
  },
  {
   "cell_type": "markdown",
   "metadata": {},
   "source": [
    "# In-Class Exercise 2 <br>\n",
    "<p>Ask user for input, check to see if the letter 'p' is in the input</p>"
   ]
  },
  {
   "cell_type": "code",
   "execution_count": null,
   "metadata": {},
   "outputs": [],
   "source": [
    "userInput = input('Type Something!')\n",
    "if 'p' not in userInput:\n",
    "    print('There is no p')\n",
    "else:\n",
    "    print('There is a p')\n"
   ]
  },
  {
   "cell_type": "markdown",
   "metadata": {},
   "source": [
    "## Using 'and'/'or' with If Statements"
   ]
  },
  {
   "cell_type": "code",
   "execution_count": null,
   "metadata": {},
   "outputs": [],
   "source": [
    "# see above"
   ]
  },
  {
   "cell_type": "markdown",
   "metadata": {},
   "source": [
    "### Elif Statements"
   ]
  },
  {
   "cell_type": "code",
   "execution_count": 1,
   "metadata": {},
   "outputs": [
    {
     "name": "stdout",
     "output_type": "stream",
     "text": [
      "10==10\n"
     ]
    }
   ],
   "source": [
    "if 5+5 == 10:\n",
    "    print('10==10')\n",
    "elif 100>99:\n",
    "    print('100>99')\n",
    "    \n",
    "# check both conditions\n",
    "\n",
    "if "
   ]
  },
  {
   "cell_type": "markdown",
   "metadata": {},
   "source": [
    "### Else Statements"
   ]
  },
  {
   "cell_type": "code",
   "execution_count": null,
   "metadata": {},
   "outputs": [],
   "source": [
    "# see above"
   ]
  },
  {
   "cell_type": "markdown",
   "metadata": {},
   "source": [
    "### For Loops"
   ]
  },
  {
   "cell_type": "code",
   "execution_count": 5,
   "metadata": {},
   "outputs": [
    {
     "name": "stdout",
     "output_type": "stream",
     "text": [
      "n\n",
      "e\n",
      "o\n",
      " \n",
      "i\n",
      "s\n",
      " \n",
      "t\n",
      "h\n",
      "e\n",
      " \n",
      "o\n",
      "n\n",
      "e\n",
      "14\n"
     ]
    }
   ],
   "source": [
    "# for keyword, loop variable, in keyword, iterable\n",
    "\n",
    "count = 0\n",
    "for char in 'neo is the one':\n",
    "    print(char)\n",
    "    count+=1\n",
    "print(count)"
   ]
  },
  {
   "cell_type": "code",
   "execution_count": 8,
   "metadata": {},
   "outputs": [
    {
     "name": "stdout",
     "output_type": "stream",
     "text": [
      "0\n",
      "1\n",
      "2\n",
      "3\n",
      "4\n",
      "5\n",
      "6\n",
      "7\n",
      "8\n",
      "9\n",
      "1\n",
      "2\n",
      "3\n",
      "4\n",
      "5\n",
      "6\n",
      "7\n",
      "8\n",
      "9\n",
      "10\n",
      "2\n",
      "4\n",
      "6\n",
      "8\n",
      "10\n",
      "12\n",
      "14\n",
      "16\n",
      "18\n",
      "20\n"
     ]
    }
   ],
   "source": [
    "# \"for [keyword], loop variable, in keyword, iterable\n",
    "\n",
    "\n",
    "for num in range(10):\n",
    "    print(num)\n",
    "    \n",
    "# range(start,stop,step)\n",
    "# default start at 0\n",
    "# default step at 1\n",
    "\n",
    "# only 2 arguments (start,stop), step defaults to 1\n",
    "for num in range(1,11):\n",
    "    print(num)\n",
    "\n",
    "for num in range(2,21,2):\n",
    "    print(num)"
   ]
  },
  {
   "cell_type": "markdown",
   "metadata": {},
   "source": [
    "##### Using 'in' keyword"
   ]
  },
  {
   "cell_type": "code",
   "execution_count": null,
   "metadata": {},
   "outputs": [],
   "source": [
    "# see above"
   ]
  },
  {
   "cell_type": "markdown",
   "metadata": {},
   "source": [
    "##### Continue Statement"
   ]
  },
  {
   "cell_type": "code",
   "execution_count": null,
   "metadata": {},
   "outputs": [],
   "source": [
    "# will continue to next iteration"
   ]
  },
  {
   "cell_type": "code",
   "execution_count": 15,
   "metadata": {},
   "outputs": [
    {
     "name": "stdout",
     "output_type": "stream",
     "text": [
      "0\n",
      "1\n",
      "2\n",
      "3\n",
      "4\n",
      "6\n",
      "7\n",
      "8\n",
      "9\n"
     ]
    }
   ],
   "source": [
    "for num in range(10):\n",
    "    if num == 5:\n",
    "        continue\n",
    "    print(num)"
   ]
  },
  {
   "cell_type": "markdown",
   "metadata": {},
   "source": [
    "##### Break Statement"
   ]
  },
  {
   "cell_type": "code",
   "execution_count": null,
   "metadata": {},
   "outputs": [],
   "source": [
    "# will break out of current loop"
   ]
  },
  {
   "cell_type": "code",
   "execution_count": 10,
   "metadata": {},
   "outputs": [
    {
     "name": "stdout",
     "output_type": "stream",
     "text": [
      "0\n",
      "1\n",
      "2\n",
      "3\n",
      "4\n"
     ]
    }
   ],
   "source": [
    "for num in range(10):\n",
    "    if num == 5:\n",
    "        break\n",
    "    print(num)"
   ]
  },
  {
   "cell_type": "markdown",
   "metadata": {},
   "source": [
    "##### Pass Statement"
   ]
  },
  {
   "cell_type": "code",
   "execution_count": null,
   "metadata": {},
   "outputs": [],
   "source": [
    "# mostly used as a placeholder, and will continue on same iteration\n",
    "# on VSCode, without pass, it might show error. Pass just placeholds to prevent error"
   ]
  },
  {
   "cell_type": "code",
   "execution_count": 18,
   "metadata": {},
   "outputs": [
    {
     "name": "stdout",
     "output_type": "stream",
     "text": [
      "0\n",
      "1\n",
      "2\n",
      "3\n",
      "4\n",
      "5\n",
      "6\n",
      "7\n",
      "8\n",
      "9\n"
     ]
    }
   ],
   "source": [
    "def get_user_age():\n",
    "    pass\n",
    "\n",
    "def calculate_age():\n",
    "    pass\n",
    "    \n",
    "for num in range(10):\n",
    "    if num == 5:\n",
    "        pass\n",
    "    print(num)"
   ]
  },
  {
   "cell_type": "markdown",
   "metadata": {},
   "source": [
    "##### Double For Loops"
   ]
  },
  {
   "cell_type": "code",
   "execution_count": 25,
   "metadata": {},
   "outputs": [
    {
     "name": "stdout",
     "output_type": "stream",
     "text": [
      "0 s\n",
      "0 e\n",
      "0 a\n",
      "0 n\n",
      "0  \n",
      "0 c\n",
      "0 u\n",
      "0 r\n",
      "0 r\n",
      "0 i\n",
      "0 e\n",
      "1 s\n",
      "1 e\n",
      "1 a\n",
      "1 n\n",
      "1  \n",
      "1 c\n",
      "1 u\n",
      "1 r\n",
      "1 r\n",
      "1 i\n",
      "1 e\n",
      "2 s\n",
      "2 e\n",
      "2 a\n",
      "2 n\n",
      "2  \n",
      "2 c\n",
      "2 u\n",
      "2 r\n",
      "2 r\n",
      "2 i\n",
      "2 e\n",
      "3 s\n",
      "3 e\n",
      "3 a\n",
      "3 n\n",
      "3  \n",
      "3 c\n",
      "3 u\n",
      "3 r\n",
      "3 r\n",
      "3 i\n",
      "3 e\n",
      "4 s\n",
      "4 e\n",
      "4 a\n",
      "4 n\n",
      "4  \n",
      "4 c\n",
      "4 u\n",
      "4 r\n",
      "4 r\n",
      "4 i\n",
      "4 e\n",
      "5 s\n",
      "5 e\n",
      "5 a\n",
      "5 n\n",
      "5  \n",
      "5 c\n",
      "5 u\n",
      "5 r\n",
      "5 r\n",
      "5 i\n",
      "5 e\n",
      "6 s\n",
      "6 e\n",
      "6 a\n",
      "6 n\n",
      "6  \n",
      "6 c\n",
      "6 u\n",
      "6 r\n",
      "6 r\n",
      "6 i\n",
      "6 e\n",
      "7 s\n",
      "7 e\n",
      "7 a\n",
      "7 n\n",
      "7  \n",
      "7 c\n",
      "7 u\n",
      "7 r\n",
      "7 r\n",
      "7 i\n",
      "7 e\n",
      "8 s\n",
      "8 e\n",
      "8 a\n",
      "8 n\n",
      "8  \n",
      "8 c\n",
      "8 u\n",
      "8 r\n",
      "8 r\n",
      "8 i\n",
      "8 e\n",
      "9 s\n",
      "9 e\n",
      "9 a\n",
      "9 n\n",
      "9  \n",
      "9 c\n",
      "9 u\n",
      "9 r\n",
      "9 r\n",
      "9 i\n",
      "9 e\n",
      "10 s\n",
      "10 e\n",
      "10 a\n",
      "10 n\n",
      "10  \n",
      "10 c\n",
      "10 u\n",
      "10 r\n",
      "10 r\n",
      "10 i\n",
      "10 e\n",
      "11 s\n",
      "11 e\n",
      "11 a\n",
      "11 n\n",
      "11  \n",
      "11 c\n",
      "11 u\n",
      "11 r\n",
      "11 r\n",
      "11 i\n",
      "11 e\n"
     ]
    }
   ],
   "source": [
    "for num in range(12):\n",
    "    for char in 'sean currie':\n",
    "        print(num, char)"
   ]
  },
  {
   "cell_type": "code",
   "execution_count": 26,
   "metadata": {},
   "outputs": [
    {
     "name": "stdout",
     "output_type": "stream",
     "text": [
      "0   0\n",
      "0   1\n",
      "0   2\n",
      "0   3\n",
      "0   4\n",
      "0   5\n",
      "0   6\n",
      "0   7\n",
      "0   8\n",
      "0   9\n",
      "nested loop completed\n",
      "1   0\n",
      "1   1\n",
      "1   2\n",
      "1   3\n",
      "1   4\n",
      "1   5\n",
      "1   6\n",
      "1   7\n",
      "1   8\n",
      "1   9\n",
      "nested loop completed\n",
      "2   0\n",
      "2   1\n",
      "2   2\n",
      "2   3\n",
      "2   4\n",
      "2   5\n",
      "2   6\n",
      "2   7\n",
      "2   8\n",
      "2   9\n",
      "nested loop completed\n",
      "3   0\n",
      "3   1\n",
      "3   2\n",
      "3   3\n",
      "3   4\n",
      "3   5\n",
      "3   6\n",
      "3   7\n",
      "3   8\n",
      "3   9\n",
      "nested loop completed\n",
      "4   0\n",
      "4   1\n",
      "4   2\n",
      "4   3\n",
      "4   4\n",
      "4   5\n",
      "4   6\n",
      "4   7\n",
      "4   8\n",
      "4   9\n",
      "nested loop completed\n",
      "5   0\n",
      "5   1\n",
      "5   2\n",
      "5   3\n",
      "5   4\n",
      "5   5\n",
      "5   6\n",
      "5   7\n",
      "5   8\n",
      "5   9\n",
      "nested loop completed\n",
      "6   0\n",
      "6   1\n",
      "6   2\n",
      "6   3\n",
      "6   4\n",
      "6   5\n",
      "6   6\n",
      "6   7\n",
      "6   8\n",
      "6   9\n",
      "nested loop completed\n",
      "7   0\n",
      "7   1\n",
      "7   2\n",
      "7   3\n",
      "7   4\n",
      "7   5\n",
      "7   6\n",
      "7   7\n",
      "7   8\n",
      "7   9\n",
      "nested loop completed\n",
      "8   0\n",
      "8   1\n",
      "8   2\n",
      "8   3\n",
      "8   4\n",
      "8   5\n",
      "8   6\n",
      "8   7\n",
      "8   8\n",
      "8   9\n",
      "nested loop completed\n",
      "9   0\n",
      "9   1\n",
      "9   2\n",
      "9   3\n",
      "9   4\n",
      "9   5\n",
      "9   6\n",
      "9   7\n",
      "9   8\n",
      "9   9\n",
      "nested loop completed\n"
     ]
    }
   ],
   "source": [
    "for x in range(10):\n",
    "    for y in range(10):\n",
    "        print(x,' ',y)\n",
    "    print('nested loop completed')"
   ]
  },
  {
   "cell_type": "markdown",
   "metadata": {},
   "source": [
    "### While Loops"
   ]
  },
  {
   "cell_type": "code",
   "execution_count": 1,
   "metadata": {},
   "outputs": [
    {
     "name": "stdout",
     "output_type": "stream",
     "text": [
      "0\n",
      "1\n",
      "2\n",
      "3\n",
      "4\n",
      "5\n",
      "6\n",
      "7\n",
      "8\n",
      "9\n",
      "10\n",
      "11\n",
      "12\n",
      "13\n",
      "14\n",
      "15\n",
      "16\n",
      "17\n",
      "18\n",
      "19\n",
      "20\n",
      "21\n",
      "22\n",
      "23\n",
      "24\n",
      "25\n",
      "26\n",
      "27\n",
      "28\n",
      "29\n",
      "30\n",
      "31\n",
      "32\n",
      "33\n",
      "34\n",
      "35\n",
      "36\n",
      "37\n",
      "38\n",
      "39\n",
      "40\n",
      "41\n",
      "42\n",
      "43\n",
      "44\n",
      "45\n",
      "46\n",
      "47\n",
      "48\n",
      "49\n",
      "50\n",
      "51\n",
      "52\n",
      "53\n",
      "54\n",
      "55\n",
      "56\n",
      "57\n",
      "58\n",
      "59\n",
      "60\n",
      "61\n",
      "62\n",
      "63\n",
      "64\n",
      "65\n",
      "66\n",
      "67\n",
      "68\n",
      "69\n",
      "70\n",
      "71\n",
      "72\n",
      "73\n",
      "74\n",
      "75\n",
      "76\n",
      "77\n",
      "78\n",
      "79\n",
      "80\n",
      "81\n",
      "82\n",
      "83\n",
      "84\n",
      "85\n",
      "86\n",
      "87\n",
      "88\n",
      "89\n",
      "90\n",
      "91\n",
      "92\n",
      "93\n",
      "94\n",
      "95\n",
      "96\n",
      "97\n",
      "98\n",
      "99\n"
     ]
    }
   ],
   "source": [
    "# key while, condition to keep looping\n",
    "\n",
    "num = 0\n",
    "while num < 100:\n",
    "    print(num)\n",
    "    num +=1"
   ]
  },
  {
   "cell_type": "markdown",
   "metadata": {},
   "source": [
    "##### Looping 'While True'"
   ]
  },
  {
   "cell_type": "code",
   "execution_count": 2,
   "metadata": {},
   "outputs": [
    {
     "name": "stdout",
     "output_type": "stream",
     "text": [
      "hello\n",
      "1\n",
      "hello\n",
      "2\n",
      "hello\n",
      "3\n",
      "hello\n",
      "4\n",
      "hello\n",
      "5\n",
      "hello\n",
      "6\n",
      "hello\n",
      "7\n",
      "hello\n",
      "8\n",
      "hello\n",
      "9\n",
      "hello\n",
      "10\n",
      "hello\n",
      "11\n",
      "hello\n",
      "12\n",
      "hello\n",
      "13\n",
      "hello\n",
      "14\n",
      "hello\n",
      "15\n",
      "hello\n",
      "16\n",
      "hello\n",
      "17\n",
      "hello\n",
      "18\n",
      "hello\n",
      "19\n",
      "hello\n",
      "20\n",
      "hello\n",
      "21\n",
      "hello\n",
      "22\n",
      "hello\n",
      "23\n",
      "hello\n",
      "24\n",
      "hello\n",
      "25\n",
      "hello\n",
      "26\n",
      "hello\n",
      "27\n",
      "hello\n",
      "28\n",
      "hello\n",
      "29\n",
      "hello\n",
      "30\n",
      "hello\n",
      "31\n",
      "hello\n",
      "32\n",
      "hello\n",
      "33\n",
      "hello\n",
      "34\n",
      "hello\n",
      "35\n",
      "hello\n",
      "36\n",
      "hello\n",
      "37\n",
      "hello\n",
      "38\n",
      "hello\n",
      "39\n",
      "hello\n",
      "40\n",
      "hello\n",
      "41\n",
      "hello\n",
      "42\n",
      "hello\n",
      "43\n",
      "hello\n",
      "44\n",
      "hello\n",
      "45\n",
      "hello\n",
      "46\n",
      "hello\n",
      "47\n",
      "hello\n",
      "48\n",
      "hello\n",
      "49\n",
      "hello\n",
      "50\n",
      "hello\n",
      "51\n",
      "hello\n",
      "52\n",
      "hello\n",
      "53\n",
      "hello\n",
      "54\n",
      "hello\n",
      "55\n",
      "hello\n",
      "56\n",
      "hello\n",
      "57\n",
      "hello\n",
      "58\n",
      "hello\n",
      "59\n",
      "hello\n",
      "60\n",
      "hello\n",
      "61\n",
      "hello\n",
      "62\n",
      "hello\n",
      "63\n",
      "hello\n",
      "64\n",
      "hello\n",
      "65\n",
      "hello\n",
      "66\n",
      "hello\n",
      "67\n",
      "hello\n",
      "68\n",
      "hello\n",
      "69\n",
      "hello\n",
      "70\n",
      "hello\n",
      "71\n",
      "hello\n",
      "72\n",
      "hello\n",
      "73\n",
      "hello\n",
      "74\n",
      "hello\n",
      "75\n",
      "hello\n",
      "76\n",
      "hello\n",
      "77\n",
      "hello\n",
      "78\n",
      "hello\n",
      "79\n",
      "hello\n",
      "80\n",
      "hello\n",
      "81\n",
      "hello\n",
      "82\n",
      "hello\n",
      "83\n",
      "hello\n",
      "84\n",
      "hello\n",
      "85\n",
      "hello\n",
      "86\n",
      "hello\n",
      "87\n",
      "hello\n",
      "88\n",
      "hello\n",
      "89\n",
      "hello\n",
      "90\n",
      "hello\n",
      "91\n",
      "hello\n",
      "92\n",
      "hello\n",
      "93\n",
      "hello\n",
      "94\n",
      "hello\n",
      "95\n",
      "hello\n",
      "96\n",
      "hello\n",
      "97\n",
      "hello\n",
      "98\n",
      "hello\n",
      "99\n",
      "hello\n",
      "100\n"
     ]
    }
   ],
   "source": [
    "i = 0\n",
    "while True:\n",
    "    print('hello')\n",
    "    i+=1\n",
    "    print(i)\n",
    "    if i == 100:\n",
    "        break"
   ]
  },
  {
   "cell_type": "markdown",
   "metadata": {},
   "source": [
    "##### While & For Loops Used Together"
   ]
  },
  {
   "cell_type": "code",
   "execution_count": 3,
   "metadata": {},
   "outputs": [
    {
     "name": "stdout",
     "output_type": "stream",
     "text": [
      "0   s\n",
      "1   e\n",
      "2   a\n",
      "3   n\n",
      "4   s\n",
      "5   e\n",
      "6   a\n",
      "7   n\n"
     ]
    }
   ],
   "source": [
    "num = 0\n",
    "while num < 5:\n",
    "    for char in 'sean':\n",
    "        print(num,' ',char)\n",
    "        num+=1"
   ]
  },
  {
   "cell_type": "markdown",
   "metadata": {},
   "source": [
    "### Built-In Functions"
   ]
  },
  {
   "cell_type": "markdown",
   "metadata": {},
   "source": [
    "##### range()"
   ]
  },
  {
   "cell_type": "code",
   "execution_count": 4,
   "metadata": {},
   "outputs": [
    {
     "name": "stdout",
     "output_type": "stream",
     "text": [
      "range(0, 10)\n"
     ]
    }
   ],
   "source": [
    "# range(start,stop,step)\n",
    "# only one required argument- would be stop\n",
    "# start defaults to 0 and step defaults to 1\n",
    "print(range(10))"
   ]
  },
  {
   "cell_type": "markdown",
   "metadata": {},
   "source": [
    "##### len()"
   ]
  },
  {
   "cell_type": "code",
   "execution_count": 8,
   "metadata": {},
   "outputs": [
    {
     "name": "stdout",
     "output_type": "stream",
     "text": [
      "0 s\n",
      "1 e\n",
      "2 a\n",
      "3 n\n",
      "4  \n",
      "5 c\n",
      "6 u\n",
      "7 r\n",
      "8 r\n",
      "9 i\n",
      "10 e\n"
     ]
    }
   ],
   "source": [
    "len('sean currie')\n",
    "\n",
    "# range is not inclusive (0 - 10 is 1-->9)\n",
    "# length (len) is inclusive\n",
    "\n",
    "len('sean currie')\n",
    "instructor = 'sean currie'\n",
    "for i in range(len(instructor)):\n",
    "    print(i, end=' ')\n",
    "    print(instructor[i])"
   ]
  },
  {
   "cell_type": "markdown",
   "metadata": {},
   "source": [
    "##### help()"
   ]
  },
  {
   "cell_type": "code",
   "execution_count": 9,
   "metadata": {},
   "outputs": [
    {
     "name": "stdout",
     "output_type": "stream",
     "text": [
      "Help on class range in module builtins:\n",
      "\n",
      "class range(object)\n",
      " |  range(stop) -> range object\n",
      " |  range(start, stop[, step]) -> range object\n",
      " |  \n",
      " |  Return an object that produces a sequence of integers from start (inclusive)\n",
      " |  to stop (exclusive) by step.  range(i, j) produces i, i+1, i+2, ..., j-1.\n",
      " |  start defaults to 0, and stop is omitted!  range(4) produces 0, 1, 2, 3.\n",
      " |  These are exactly the valid indices for a list of 4 elements.\n",
      " |  When step is given, it specifies the increment (or decrement).\n",
      " |  \n",
      " |  Methods defined here:\n",
      " |  \n",
      " |  __bool__(self, /)\n",
      " |      True if self else False\n",
      " |  \n",
      " |  __contains__(self, key, /)\n",
      " |      Return key in self.\n",
      " |  \n",
      " |  __eq__(self, value, /)\n",
      " |      Return self==value.\n",
      " |  \n",
      " |  __ge__(self, value, /)\n",
      " |      Return self>=value.\n",
      " |  \n",
      " |  __getattribute__(self, name, /)\n",
      " |      Return getattr(self, name).\n",
      " |  \n",
      " |  __getitem__(self, key, /)\n",
      " |      Return self[key].\n",
      " |  \n",
      " |  __gt__(self, value, /)\n",
      " |      Return self>value.\n",
      " |  \n",
      " |  __hash__(self, /)\n",
      " |      Return hash(self).\n",
      " |  \n",
      " |  __iter__(self, /)\n",
      " |      Implement iter(self).\n",
      " |  \n",
      " |  __le__(self, value, /)\n",
      " |      Return self<=value.\n",
      " |  \n",
      " |  __len__(self, /)\n",
      " |      Return len(self).\n",
      " |  \n",
      " |  __lt__(self, value, /)\n",
      " |      Return self<value.\n",
      " |  \n",
      " |  __ne__(self, value, /)\n",
      " |      Return self!=value.\n",
      " |  \n",
      " |  __reduce__(...)\n",
      " |      Helper for pickle.\n",
      " |  \n",
      " |  __repr__(self, /)\n",
      " |      Return repr(self).\n",
      " |  \n",
      " |  __reversed__(...)\n",
      " |      Return a reverse iterator.\n",
      " |  \n",
      " |  count(...)\n",
      " |      rangeobject.count(value) -> integer -- return number of occurrences of value\n",
      " |  \n",
      " |  index(...)\n",
      " |      rangeobject.index(value) -> integer -- return index of value.\n",
      " |      Raise ValueError if the value is not present.\n",
      " |  \n",
      " |  ----------------------------------------------------------------------\n",
      " |  Static methods defined here:\n",
      " |  \n",
      " |  __new__(*args, **kwargs) from builtins.type\n",
      " |      Create and return a new object.  See help(type) for accurate signature.\n",
      " |  \n",
      " |  ----------------------------------------------------------------------\n",
      " |  Data descriptors defined here:\n",
      " |  \n",
      " |  start\n",
      " |  \n",
      " |  step\n",
      " |  \n",
      " |  stop\n",
      "\n"
     ]
    }
   ],
   "source": [
    "help(range)"
   ]
  },
  {
   "cell_type": "markdown",
   "metadata": {},
   "source": [
    "##### isinstance()"
   ]
  },
  {
   "cell_type": "code",
   "execution_count": 13,
   "metadata": {},
   "outputs": [
    {
     "name": "stdout",
     "output_type": "stream",
     "text": [
      "True\n"
     ]
    }
   ],
   "source": [
    "type(instructor)\n",
    "\n",
    "print(isinstance(instructor, str))"
   ]
  },
  {
   "cell_type": "markdown",
   "metadata": {},
   "source": [
    "##### abs()"
   ]
  },
  {
   "cell_type": "code",
   "execution_count": 15,
   "metadata": {},
   "outputs": [
    {
     "data": {
      "text/plain": [
       "True"
      ]
     },
     "execution_count": 15,
     "metadata": {},
     "output_type": "execute_result"
    }
   ],
   "source": [
    "# abs = absolute value (distance from 0)\n",
    "\n",
    "abs(-5)==abs(5)"
   ]
  },
  {
   "cell_type": "markdown",
   "metadata": {},
   "source": [
    "### Try and Except"
   ]
  },
  {
   "cell_type": "code",
   "execution_count": 13,
   "metadata": {},
   "outputs": [
    {
     "name": "stdout",
     "output_type": "stream",
     "text": [
      "What is your age?18\n"
     ]
    }
   ],
   "source": [
    "while True:\n",
    "    try:\n",
    "        user_age = int(input('What is your age?'))\n",
    "        break\n",
    "    except:\n",
    "        print('Error enter age in digits')"
   ]
  },
  {
   "cell_type": "markdown",
   "metadata": {},
   "source": [
    "### Lists"
   ]
  },
  {
   "cell_type": "markdown",
   "metadata": {},
   "source": [
    "##### Declaring Lists"
   ]
  },
  {
   "cell_type": "code",
   "execution_count": null,
   "metadata": {},
   "outputs": [],
   "source": []
  },
  {
   "cell_type": "markdown",
   "metadata": {},
   "source": [
    "##### Indexing a List"
   ]
  },
  {
   "cell_type": "code",
   "execution_count": null,
   "metadata": {},
   "outputs": [],
   "source": []
  },
  {
   "cell_type": "markdown",
   "metadata": {},
   "source": [
    "##### .append()"
   ]
  },
  {
   "cell_type": "code",
   "execution_count": null,
   "metadata": {},
   "outputs": [],
   "source": []
  },
  {
   "cell_type": "markdown",
   "metadata": {},
   "source": [
    "##### .insert()"
   ]
  },
  {
   "cell_type": "code",
   "execution_count": null,
   "metadata": {},
   "outputs": [],
   "source": []
  },
  {
   "cell_type": "markdown",
   "metadata": {},
   "source": [
    "##### .pop()"
   ]
  },
  {
   "cell_type": "code",
   "execution_count": null,
   "metadata": {},
   "outputs": [],
   "source": []
  },
  {
   "cell_type": "markdown",
   "metadata": {},
   "source": [
    "\n",
    "##### .remove()"
   ]
  },
  {
   "cell_type": "code",
   "execution_count": null,
   "metadata": {},
   "outputs": [],
   "source": []
  },
  {
   "cell_type": "markdown",
   "metadata": {},
   "source": [
    "##### del()"
   ]
  },
  {
   "cell_type": "code",
   "execution_count": null,
   "metadata": {},
   "outputs": [],
   "source": []
  },
  {
   "cell_type": "markdown",
   "metadata": {},
   "source": [
    "##### Concatenating Two Lists"
   ]
  },
  {
   "cell_type": "code",
   "execution_count": null,
   "metadata": {},
   "outputs": [],
   "source": []
  },
  {
   "cell_type": "markdown",
   "metadata": {},
   "source": [
    "##### Lists Within Lists"
   ]
  },
  {
   "cell_type": "code",
   "execution_count": null,
   "metadata": {},
   "outputs": [],
   "source": []
  },
  {
   "cell_type": "markdown",
   "metadata": {},
   "source": [
    "##### Looping Through Lists"
   ]
  },
  {
   "cell_type": "code",
   "execution_count": null,
   "metadata": {},
   "outputs": [],
   "source": []
  },
  {
   "cell_type": "markdown",
   "metadata": {},
   "source": [
    "## Exercise #1 <br>\n",
    "<p>Cube Number Test... Print out all cubed numbers up to the total value 1000. Meaning that if the cubed number is over 1000 break the loop.</p>"
   ]
  },
  {
   "cell_type": "code",
   "execution_count": 27,
   "metadata": {},
   "outputs": [
    {
     "name": "stdout",
     "output_type": "stream",
     "text": [
      "0\n",
      "1\n",
      "8\n",
      "27\n",
      "64\n",
      "125\n",
      "216\n",
      "343\n",
      "512\n",
      "729\n"
     ]
    }
   ],
   "source": [
    "num = 0\n",
    "while True:\n",
    "    print(num**3)\n",
    "    num += 1\n",
    "    if num**3 == 1000:\n",
    "        break"
   ]
  },
  {
   "cell_type": "markdown",
   "metadata": {},
   "source": [
    "## Exercise #2 <br>\n",
    "<p>Get first prime numbers up to 100</p>"
   ]
  },
  {
   "cell_type": "code",
   "execution_count": 2,
   "metadata": {},
   "outputs": [
    {
     "name": "stdout",
     "output_type": "stream",
     "text": [
      "2\n",
      "3\n",
      "5\n",
      "7\n",
      "11\n",
      "13\n",
      "17\n",
      "19\n",
      "23\n",
      "29\n",
      "31\n",
      "37\n",
      "41\n",
      "43\n",
      "47\n",
      "53\n",
      "59\n",
      "61\n",
      "67\n",
      "71\n",
      "73\n",
      "79\n",
      "83\n",
      "89\n",
      "97\n"
     ]
    }
   ],
   "source": [
    "# HINT::\n",
    "# An else after an if runs if the if didn’t\n",
    "# An else after a for runs if the for didn’t break\n",
    "\n",
    "for num in range(2,101):\n",
    "    prime = True\n",
    "    for p in range(2,num):\n",
    "        if (num%p==0):\n",
    "            prime = False\n",
    "    if prime:\n",
    "        print(num)\n",
    "        \n",
    "# Experimented with a few different ways of doing what I thought was the same thing,\n",
    "# but it seems like there are factors that I haven't considered in this logical progression."
   ]
  },
  {
   "cell_type": "markdown",
   "metadata": {},
   "source": [
    "# Exercise 3 <br>\n",
    "<p>Take in a users input for their age, if they are younger than 18 print kids, if they're 18 to 65 print adults, else print seniors</p>"
   ]
  },
  {
   "cell_type": "code",
   "execution_count": null,
   "metadata": {},
   "outputs": [],
   "source": [
    "userInput = int(input('What is your age?'))\n",
    "if userInput < 18:\n",
    "    print(\"Sup kid\")\n",
    "if userInput >= 18 and userInput <= 65:\n",
    "    print(\"Adulting is hard\")\n",
    "if userInput > 65:\n",
    "    print(\"Senior\")\n",
    "\n"
   ]
  },
  {
   "cell_type": "code",
   "execution_count": null,
   "metadata": {},
   "outputs": [],
   "source": []
  }
 ],
 "metadata": {
  "kernelspec": {
   "display_name": "Python 3 (ipykernel)",
   "language": "python",
   "name": "python3"
  },
  "language_info": {
   "codemirror_mode": {
    "name": "ipython",
    "version": 3
   },
   "file_extension": ".py",
   "mimetype": "text/x-python",
   "name": "python",
   "nbconvert_exporter": "python",
   "pygments_lexer": "ipython3",
   "version": "3.9.13"
  }
 },
 "nbformat": 4,
 "nbformat_minor": 2
}
